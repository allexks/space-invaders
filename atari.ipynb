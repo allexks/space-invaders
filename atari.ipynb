{
  "cells": [
    {
      "cell_type": "markdown",
      "metadata": {
        "id": "k2wsuq_uaCwE"
      },
      "source": [
        "# Space Invaders"
      ]
    },
    {
      "cell_type": "markdown",
      "source": [
        "## Dependencies"
      ],
      "metadata": {
        "id": "8J9pbywRcrR3"
      }
    },
    {
      "cell_type": "code",
      "source": [
        "!pip install tensorflow==2.9.1 gym keras-rl2 gym[atari]"
      ],
      "metadata": {
        "colab": {
          "base_uri": "https://localhost:8080/"
        },
        "id": "Hoe-hREJaEfO",
        "outputId": "fee6ff27-e8e4-4f4b-abe0-4cd85f3f3b78"
      },
      "execution_count": 3,
      "outputs": [
        {
          "output_type": "stream",
          "name": "stdout",
          "text": [
            "Looking in indexes: https://pypi.org/simple, https://us-python.pkg.dev/colab-wheels/public/simple/\n",
            "Requirement already satisfied: tensorflow==2.9.1 in /usr/local/lib/python3.7/dist-packages (2.9.1)\n",
            "Requirement already satisfied: gym in /usr/local/lib/python3.7/dist-packages (0.17.3)\n",
            "Requirement already satisfied: keras-rl2 in /usr/local/lib/python3.7/dist-packages (1.0.5)\n",
            "Requirement already satisfied: h5py>=2.9.0 in /usr/local/lib/python3.7/dist-packages (from tensorflow==2.9.1) (3.1.0)\n",
            "Requirement already satisfied: packaging in /usr/local/lib/python3.7/dist-packages (from tensorflow==2.9.1) (21.3)\n",
            "Requirement already satisfied: opt-einsum>=2.3.2 in /usr/local/lib/python3.7/dist-packages (from tensorflow==2.9.1) (3.3.0)\n",
            "Requirement already satisfied: keras-preprocessing>=1.1.1 in /usr/local/lib/python3.7/dist-packages (from tensorflow==2.9.1) (1.1.2)\n",
            "Requirement already satisfied: gast<=0.4.0,>=0.2.1 in /usr/local/lib/python3.7/dist-packages (from tensorflow==2.9.1) (0.4.0)\n",
            "Requirement already satisfied: typing-extensions>=3.6.6 in /usr/local/lib/python3.7/dist-packages (from tensorflow==2.9.1) (4.2.0)\n",
            "Requirement already satisfied: absl-py>=1.0.0 in /usr/local/lib/python3.7/dist-packages (from tensorflow==2.9.1) (1.0.0)\n",
            "Requirement already satisfied: keras<2.10.0,>=2.9.0rc0 in /usr/local/lib/python3.7/dist-packages (from tensorflow==2.9.1) (2.9.0)\n",
            "Requirement already satisfied: setuptools in /usr/local/lib/python3.7/dist-packages (from tensorflow==2.9.1) (57.4.0)\n",
            "Requirement already satisfied: tensorflow-estimator<2.10.0,>=2.9.0rc0 in /usr/local/lib/python3.7/dist-packages (from tensorflow==2.9.1) (2.9.0)\n",
            "Requirement already satisfied: astunparse>=1.6.0 in /usr/local/lib/python3.7/dist-packages (from tensorflow==2.9.1) (1.6.3)\n",
            "Requirement already satisfied: numpy>=1.20 in /usr/local/lib/python3.7/dist-packages (from tensorflow==2.9.1) (1.21.6)\n",
            "Requirement already satisfied: flatbuffers<2,>=1.12 in /usr/local/lib/python3.7/dist-packages (from tensorflow==2.9.1) (1.12)\n",
            "Requirement already satisfied: grpcio<2.0,>=1.24.3 in /usr/local/lib/python3.7/dist-packages (from tensorflow==2.9.1) (1.46.3)\n",
            "Requirement already satisfied: protobuf<3.20,>=3.9.2 in /usr/local/lib/python3.7/dist-packages (from tensorflow==2.9.1) (3.17.3)\n",
            "Requirement already satisfied: tensorboard<2.10,>=2.9 in /usr/local/lib/python3.7/dist-packages (from tensorflow==2.9.1) (2.9.1)\n",
            "Requirement already satisfied: six>=1.12.0 in /usr/local/lib/python3.7/dist-packages (from tensorflow==2.9.1) (1.15.0)\n",
            "Requirement already satisfied: termcolor>=1.1.0 in /usr/local/lib/python3.7/dist-packages (from tensorflow==2.9.1) (1.1.0)\n",
            "Requirement already satisfied: libclang>=13.0.0 in /usr/local/lib/python3.7/dist-packages (from tensorflow==2.9.1) (14.0.1)\n",
            "Requirement already satisfied: google-pasta>=0.1.1 in /usr/local/lib/python3.7/dist-packages (from tensorflow==2.9.1) (0.2.0)\n",
            "Requirement already satisfied: tensorflow-io-gcs-filesystem>=0.23.1 in /usr/local/lib/python3.7/dist-packages (from tensorflow==2.9.1) (0.26.0)\n",
            "Requirement already satisfied: wrapt>=1.11.0 in /usr/local/lib/python3.7/dist-packages (from tensorflow==2.9.1) (1.14.1)\n",
            "Requirement already satisfied: wheel<1.0,>=0.23.0 in /usr/local/lib/python3.7/dist-packages (from astunparse>=1.6.0->tensorflow==2.9.1) (0.37.1)\n",
            "Requirement already satisfied: cached-property in /usr/local/lib/python3.7/dist-packages (from h5py>=2.9.0->tensorflow==2.9.1) (1.5.2)\n",
            "Requirement already satisfied: google-auth-oauthlib<0.5,>=0.4.1 in /usr/local/lib/python3.7/dist-packages (from tensorboard<2.10,>=2.9->tensorflow==2.9.1) (0.4.6)\n",
            "Requirement already satisfied: requests<3,>=2.21.0 in /usr/local/lib/python3.7/dist-packages (from tensorboard<2.10,>=2.9->tensorflow==2.9.1) (2.23.0)\n",
            "Requirement already satisfied: werkzeug>=1.0.1 in /usr/local/lib/python3.7/dist-packages (from tensorboard<2.10,>=2.9->tensorflow==2.9.1) (1.0.1)\n",
            "Requirement already satisfied: markdown>=2.6.8 in /usr/local/lib/python3.7/dist-packages (from tensorboard<2.10,>=2.9->tensorflow==2.9.1) (3.3.7)\n",
            "Requirement already satisfied: tensorboard-plugin-wit>=1.6.0 in /usr/local/lib/python3.7/dist-packages (from tensorboard<2.10,>=2.9->tensorflow==2.9.1) (1.8.1)\n",
            "Requirement already satisfied: google-auth<3,>=1.6.3 in /usr/local/lib/python3.7/dist-packages (from tensorboard<2.10,>=2.9->tensorflow==2.9.1) (1.35.0)\n",
            "Requirement already satisfied: tensorboard-data-server<0.7.0,>=0.6.0 in /usr/local/lib/python3.7/dist-packages (from tensorboard<2.10,>=2.9->tensorflow==2.9.1) (0.6.1)\n",
            "Requirement already satisfied: pyasn1-modules>=0.2.1 in /usr/local/lib/python3.7/dist-packages (from google-auth<3,>=1.6.3->tensorboard<2.10,>=2.9->tensorflow==2.9.1) (0.2.8)\n",
            "Requirement already satisfied: cachetools<5.0,>=2.0.0 in /usr/local/lib/python3.7/dist-packages (from google-auth<3,>=1.6.3->tensorboard<2.10,>=2.9->tensorflow==2.9.1) (4.2.4)\n",
            "Requirement already satisfied: rsa<5,>=3.1.4 in /usr/local/lib/python3.7/dist-packages (from google-auth<3,>=1.6.3->tensorboard<2.10,>=2.9->tensorflow==2.9.1) (4.8)\n",
            "Requirement already satisfied: requests-oauthlib>=0.7.0 in /usr/local/lib/python3.7/dist-packages (from google-auth-oauthlib<0.5,>=0.4.1->tensorboard<2.10,>=2.9->tensorflow==2.9.1) (1.3.1)\n",
            "Requirement already satisfied: importlib-metadata>=4.4 in /usr/local/lib/python3.7/dist-packages (from markdown>=2.6.8->tensorboard<2.10,>=2.9->tensorflow==2.9.1) (4.11.4)\n",
            "Requirement already satisfied: zipp>=0.5 in /usr/local/lib/python3.7/dist-packages (from importlib-metadata>=4.4->markdown>=2.6.8->tensorboard<2.10,>=2.9->tensorflow==2.9.1) (3.8.0)\n",
            "Requirement already satisfied: pyasn1<0.5.0,>=0.4.6 in /usr/local/lib/python3.7/dist-packages (from pyasn1-modules>=0.2.1->google-auth<3,>=1.6.3->tensorboard<2.10,>=2.9->tensorflow==2.9.1) (0.4.8)\n",
            "Requirement already satisfied: urllib3!=1.25.0,!=1.25.1,<1.26,>=1.21.1 in /usr/local/lib/python3.7/dist-packages (from requests<3,>=2.21.0->tensorboard<2.10,>=2.9->tensorflow==2.9.1) (1.24.3)\n",
            "Requirement already satisfied: idna<3,>=2.5 in /usr/local/lib/python3.7/dist-packages (from requests<3,>=2.21.0->tensorboard<2.10,>=2.9->tensorflow==2.9.1) (2.10)\n",
            "Requirement already satisfied: certifi>=2017.4.17 in /usr/local/lib/python3.7/dist-packages (from requests<3,>=2.21.0->tensorboard<2.10,>=2.9->tensorflow==2.9.1) (2022.5.18.1)\n",
            "Requirement already satisfied: chardet<4,>=3.0.2 in /usr/local/lib/python3.7/dist-packages (from requests<3,>=2.21.0->tensorboard<2.10,>=2.9->tensorflow==2.9.1) (3.0.4)\n",
            "Requirement already satisfied: oauthlib>=3.0.0 in /usr/local/lib/python3.7/dist-packages (from requests-oauthlib>=0.7.0->google-auth-oauthlib<0.5,>=0.4.1->tensorboard<2.10,>=2.9->tensorflow==2.9.1) (3.2.0)\n",
            "Requirement already satisfied: cloudpickle<1.7.0,>=1.2.0 in /usr/local/lib/python3.7/dist-packages (from gym) (1.3.0)\n",
            "Requirement already satisfied: pyglet<=1.5.0,>=1.4.0 in /usr/local/lib/python3.7/dist-packages (from gym) (1.5.0)\n",
            "Requirement already satisfied: scipy in /usr/local/lib/python3.7/dist-packages (from gym) (1.4.1)\n",
            "Requirement already satisfied: future in /usr/local/lib/python3.7/dist-packages (from pyglet<=1.5.0,>=1.4.0->gym) (0.16.0)\n",
            "Requirement already satisfied: opencv-python in /usr/local/lib/python3.7/dist-packages (from gym) (4.1.2.30)\n",
            "Requirement already satisfied: Pillow in /usr/local/lib/python3.7/dist-packages (from gym) (7.1.2)\n",
            "Requirement already satisfied: atari-py~=0.2.0 in /usr/local/lib/python3.7/dist-packages (from gym) (0.2.9)\n",
            "Requirement already satisfied: pyparsing!=3.0.5,>=2.0.2 in /usr/local/lib/python3.7/dist-packages (from packaging->tensorflow==2.9.1) (3.0.9)\n"
          ]
        }
      ]
    },
    {
      "cell_type": "markdown",
      "source": [
        "ROM instructions: https://github.com/openai/atari-py#roms"
      ],
      "metadata": {
        "id": "NPjXbngKZAX2"
      }
    },
    {
      "cell_type": "code",
      "source": [
        "!python -m atari_py.import_roms roms"
      ],
      "metadata": {
        "colab": {
          "base_uri": "https://localhost:8080/"
        },
        "id": "z4iIN1BQZOGp",
        "outputId": "ef63e5ff-71c6-4e09-d452-19e7f4791c8b"
      },
      "execution_count": 4,
      "outputs": [
        {
          "output_type": "stream",
          "name": "stdout",
          "text": [
            "copying space_invaders.bin from roms/Space Invaders.bin to /usr/local/lib/python3.7/dist-packages/atari_py/atari_roms/space_invaders.bin\n"
          ]
        }
      ]
    },
    {
      "cell_type": "markdown",
      "source": [
        "## Exploration and baseline"
      ],
      "metadata": {
        "id": "gS96fFQKcf86"
      }
    },
    {
      "cell_type": "code",
      "source": [
        "import gym\n",
        "import random\n",
        "import numpy as np"
      ],
      "metadata": {
        "id": "7B2KcFLmcn6e"
      },
      "execution_count": 5,
      "outputs": []
    },
    {
      "cell_type": "code",
      "source": [
        "env = gym.make(\"SpaceInvaders-v4\")\n",
        "print(env.observation_space.shape)"
      ],
      "metadata": {
        "colab": {
          "base_uri": "https://localhost:8080/"
        },
        "id": "y074RXzxc1v7",
        "outputId": "16b53b7d-a7c4-4af9-c9d6-72b009db1b17"
      },
      "execution_count": 6,
      "outputs": [
        {
          "output_type": "stream",
          "name": "stdout",
          "text": [
            "(210, 160, 3)\n"
          ]
        }
      ]
    },
    {
      "cell_type": "code",
      "source": [
        "env.unwrapped.get_action_meanings()"
      ],
      "metadata": {
        "colab": {
          "base_uri": "https://localhost:8080/"
        },
        "id": "EEd_Sh4nZfQU",
        "outputId": "63e8b867-db15-47c6-d465-01ff4bcd7059"
      },
      "execution_count": 7,
      "outputs": [
        {
          "output_type": "execute_result",
          "data": {
            "text/plain": [
              "['NOOP', 'FIRE', 'RIGHT', 'LEFT', 'RIGHTFIRE', 'LEFTFIRE']"
            ]
          },
          "metadata": {},
          "execution_count": 7
        }
      ]
    },
    {
      "cell_type": "code",
      "source": [
        "EPISODES = 100\n",
        "scores = []\n",
        "for episode in range(1, EPISODES + 1):\n",
        "    state = env.reset()\n",
        "    done = False\n",
        "    score = 0 \n",
        "    \n",
        "    while not done:\n",
        "        # env.render()\n",
        "        action = random.choice(range(env.action_space.n))\n",
        "        n_state, reward, done, info = env.step(action)\n",
        "        score += reward\n",
        "    \n",
        "    scores.append(score)\n",
        "    print(f\"Episode {episode}: Reward == {score}\")\n",
        "\n",
        "avg = np.mean(scores)\n",
        "print(f\"Average reward: {avg}\")\n",
        "env.close()"
      ],
      "metadata": {
        "colab": {
          "base_uri": "https://localhost:8080/"
        },
        "id": "OvgmfMu-Z3HG",
        "outputId": "4ca0892e-1e49-4a1f-9962-b57c5bd7999a"
      },
      "execution_count": 8,
      "outputs": [
        {
          "output_type": "stream",
          "name": "stdout",
          "text": [
            "Episode 1: Reward == 105.0\n",
            "Episode 2: Reward == 110.0\n",
            "Episode 3: Reward == 65.0\n",
            "Episode 4: Reward == 210.0\n",
            "Episode 5: Reward == 110.0\n",
            "Episode 6: Reward == 210.0\n",
            "Episode 7: Reward == 85.0\n",
            "Episode 8: Reward == 50.0\n",
            "Episode 9: Reward == 10.0\n",
            "Episode 10: Reward == 365.0\n",
            "Episode 11: Reward == 410.0\n",
            "Episode 12: Reward == 210.0\n",
            "Episode 13: Reward == 180.0\n",
            "Episode 14: Reward == 150.0\n",
            "Episode 15: Reward == 110.0\n",
            "Episode 16: Reward == 105.0\n",
            "Episode 17: Reward == 315.0\n",
            "Episode 18: Reward == 75.0\n",
            "Episode 19: Reward == 160.0\n",
            "Episode 20: Reward == 125.0\n",
            "Episode 21: Reward == 135.0\n",
            "Episode 22: Reward == 225.0\n",
            "Episode 23: Reward == 155.0\n",
            "Episode 24: Reward == 220.0\n",
            "Episode 25: Reward == 135.0\n",
            "Episode 26: Reward == 90.0\n",
            "Episode 27: Reward == 55.0\n",
            "Episode 28: Reward == 185.0\n",
            "Episode 29: Reward == 60.0\n",
            "Episode 30: Reward == 240.0\n",
            "Episode 31: Reward == 395.0\n",
            "Episode 32: Reward == 135.0\n",
            "Episode 33: Reward == 120.0\n",
            "Episode 34: Reward == 80.0\n",
            "Episode 35: Reward == 335.0\n",
            "Episode 36: Reward == 240.0\n",
            "Episode 37: Reward == 210.0\n",
            "Episode 38: Reward == 100.0\n",
            "Episode 39: Reward == 105.0\n",
            "Episode 40: Reward == 140.0\n",
            "Episode 41: Reward == 50.0\n",
            "Episode 42: Reward == 185.0\n",
            "Episode 43: Reward == 60.0\n",
            "Episode 44: Reward == 30.0\n",
            "Episode 45: Reward == 80.0\n",
            "Episode 46: Reward == 180.0\n",
            "Episode 47: Reward == 260.0\n",
            "Episode 48: Reward == 155.0\n",
            "Episode 49: Reward == 120.0\n",
            "Episode 50: Reward == 165.0\n",
            "Episode 51: Reward == 180.0\n",
            "Episode 52: Reward == 135.0\n",
            "Episode 53: Reward == 180.0\n",
            "Episode 54: Reward == 180.0\n",
            "Episode 55: Reward == 195.0\n",
            "Episode 56: Reward == 100.0\n",
            "Episode 57: Reward == 105.0\n",
            "Episode 58: Reward == 55.0\n",
            "Episode 59: Reward == 125.0\n",
            "Episode 60: Reward == 90.0\n",
            "Episode 61: Reward == 210.0\n",
            "Episode 62: Reward == 135.0\n",
            "Episode 63: Reward == 110.0\n",
            "Episode 64: Reward == 155.0\n",
            "Episode 65: Reward == 150.0\n",
            "Episode 66: Reward == 105.0\n",
            "Episode 67: Reward == 45.0\n",
            "Episode 68: Reward == 210.0\n",
            "Episode 69: Reward == 80.0\n",
            "Episode 70: Reward == 120.0\n",
            "Episode 71: Reward == 15.0\n",
            "Episode 72: Reward == 80.0\n",
            "Episode 73: Reward == 155.0\n",
            "Episode 74: Reward == 145.0\n",
            "Episode 75: Reward == 85.0\n",
            "Episode 76: Reward == 210.0\n",
            "Episode 77: Reward == 80.0\n",
            "Episode 78: Reward == 110.0\n",
            "Episode 79: Reward == 135.0\n",
            "Episode 80: Reward == 155.0\n",
            "Episode 81: Reward == 155.0\n",
            "Episode 82: Reward == 210.0\n",
            "Episode 83: Reward == 270.0\n",
            "Episode 84: Reward == 215.0\n",
            "Episode 85: Reward == 30.0\n",
            "Episode 86: Reward == 90.0\n",
            "Episode 87: Reward == 135.0\n",
            "Episode 88: Reward == 75.0\n",
            "Episode 89: Reward == 205.0\n",
            "Episode 90: Reward == 65.0\n",
            "Episode 91: Reward == 65.0\n",
            "Episode 92: Reward == 110.0\n",
            "Episode 93: Reward == 410.0\n",
            "Episode 94: Reward == 210.0\n",
            "Episode 95: Reward == 185.0\n",
            "Episode 96: Reward == 135.0\n",
            "Episode 97: Reward == 225.0\n",
            "Episode 98: Reward == 120.0\n",
            "Episode 99: Reward == 45.0\n",
            "Episode 100: Reward == 155.0\n",
            "Average reward: 147.5\n"
          ]
        }
      ]
    },
    {
      "cell_type": "markdown",
      "source": [
        "So the baseline is around 150."
      ],
      "metadata": {
        "id": "q7VwVGfhc-p4"
      }
    },
    {
      "cell_type": "markdown",
      "source": [
        "## Model"
      ],
      "metadata": {
        "id": "KTzMWfxFdDrS"
      }
    },
    {
      "cell_type": "code",
      "source": [
        "from tensorflow.keras import Input\n",
        "from tensorflow.keras.models import Sequential\n",
        "from tensorflow.keras.layers import Dense, Flatten, Convolution2D, Resizing, Rescaling, Reshape\n",
        "from tensorflow.keras.optimizers import Adam\n",
        "from tensorflow.image import rgb_to_grayscale\n",
        "from tensorflow.keras.layers import Layer\n",
        "from tensorflow.keras.utils import register_keras_serializable"
      ],
      "metadata": {
        "id": "MFF_4nRjdJOy"
      },
      "execution_count": 9,
      "outputs": []
    },
    {
      "cell_type": "code",
      "source": [
        "@register_keras_serializable(\"atari\")\n",
        "class GrayscaleLayer(Layer):\n",
        "  def call(self, input):\n",
        "    return rgb_to_grayscale(input)\n"
      ],
      "metadata": {
        "id": "YWjHyJ6T3Bof"
      },
      "execution_count": 10,
      "outputs": []
    },
    {
      "cell_type": "code",
      "source": [
        "def build_model(window_size, height, width, channels, actions):\n",
        "    model = Sequential(name=\"seqmodel\")\n",
        "    model.add(Input(shape=(window_size, height, width, channels)))\n",
        "    model.add(Reshape((window_size * height, width, channels)))\n",
        "    model.add(GrayscaleLayer(name=\"grayscale\"))\n",
        "    model.add(Resizing((window_size * height) // 2, width // 2))\n",
        "    model.add(Rescaling(1./255)) # normalize to [0, 1]\n",
        "    model.add(Reshape((window_size, height // 2, width // 2, 1)))\n",
        "    model.add(Convolution2D(32, (8,8), strides=(4,4), activation='relu'))\n",
        "    model.add(Convolution2D(64, (4,4), strides=(2,2), activation='relu'))\n",
        "    model.add(Convolution2D(64, (3,3), activation='relu'))\n",
        "    model.add(Flatten())\n",
        "    model.add(Dense(512, activation='relu'))\n",
        "    # model.add(Dense(256, activation='relu'))\n",
        "    model.add(Dense(actions, activation='linear'))\n",
        "    return model"
      ],
      "metadata": {
        "id": "_QXMNUladM_T"
      },
      "execution_count": 20,
      "outputs": []
    },
    {
      "cell_type": "code",
      "source": [
        "WINDOW_SIZE = 4\n",
        "height, width, channels = env.observation_space.shape\n",
        "actions = env.action_space.n"
      ],
      "metadata": {
        "id": "6rdDUGF1dgVE"
      },
      "execution_count": 21,
      "outputs": []
    },
    {
      "cell_type": "code",
      "source": [
        "model = build_model(WINDOW_SIZE, height, width, channels, actions)"
      ],
      "metadata": {
        "id": "t2YjqWDYdSp5"
      },
      "execution_count": 22,
      "outputs": []
    },
    {
      "cell_type": "code",
      "source": [
        "model.summary()"
      ],
      "metadata": {
        "colab": {
          "base_uri": "https://localhost:8080/"
        },
        "id": "OZ_R6xoWdolT",
        "outputId": "d6e21c2f-d2e1-4825-ec75-f78ded8d5c84"
      },
      "execution_count": 23,
      "outputs": [
        {
          "output_type": "stream",
          "name": "stdout",
          "text": [
            "Model: \"seqmodel\"\n",
            "_________________________________________________________________\n",
            " Layer (type)                Output Shape              Param #   \n",
            "=================================================================\n",
            " reshape_2 (Reshape)         (None, 840, 160, 3)       0         \n",
            "                                                                 \n",
            " grayscale (GrayscaleLayer)  (None, 840, 160, 1)       0         \n",
            "                                                                 \n",
            " resizing_1 (Resizing)       (None, 420, 80, 1)        0         \n",
            "                                                                 \n",
            " rescaling_1 (Rescaling)     (None, 420, 80, 1)        0         \n",
            "                                                                 \n",
            " reshape_3 (Reshape)         (None, 4, 105, 80, 1)     0         \n",
            "                                                                 \n",
            " conv2d_3 (Conv2D)           (None, 4, 25, 19, 32)     2080      \n",
            "                                                                 \n",
            " conv2d_4 (Conv2D)           (None, 4, 11, 8, 64)      32832     \n",
            "                                                                 \n",
            " conv2d_5 (Conv2D)           (None, 4, 9, 6, 64)       36928     \n",
            "                                                                 \n",
            " flatten_1 (Flatten)         (None, 13824)             0         \n",
            "                                                                 \n",
            " dense_4 (Dense)             (None, 512)               7078400   \n",
            "                                                                 \n",
            " dense_5 (Dense)             (None, 6)                 3078      \n",
            "                                                                 \n",
            "=================================================================\n",
            "Total params: 7,153,318\n",
            "Trainable params: 7,153,318\n",
            "Non-trainable params: 0\n",
            "_________________________________________________________________\n"
          ]
        }
      ]
    },
    {
      "cell_type": "markdown",
      "source": [
        "## Agent"
      ],
      "metadata": {
        "id": "m9i95BBkdzhZ"
      }
    },
    {
      "cell_type": "code",
      "source": [
        "from rl.agents import DQNAgent\n",
        "from rl.memory import SequentialMemory\n",
        "from rl.policy import LinearAnnealedPolicy, EpsGreedyQPolicy"
      ],
      "metadata": {
        "id": "FjrTen__d3Ip"
      },
      "execution_count": 24,
      "outputs": []
    },
    {
      "cell_type": "code",
      "source": [
        "def build_agent(model, actions):\n",
        "    policy = LinearAnnealedPolicy(\n",
        "        EpsGreedyQPolicy(), \n",
        "        attr='eps', \n",
        "        value_max=1.0, \n",
        "        value_min=0.1, \n",
        "        value_test=0.2, \n",
        "        nb_steps=10000\n",
        "    )\n",
        "    memory = SequentialMemory(\n",
        "        limit=1000, \n",
        "        window_length=WINDOW_SIZE\n",
        "    )\n",
        "    dqn = DQNAgent(\n",
        "        model=model, \n",
        "        memory=memory, \n",
        "        policy=policy,\n",
        "        enable_dueling_network=True, \n",
        "        dueling_type='avg', \n",
        "        nb_actions=actions, \n",
        "        nb_steps_warmup=1000\n",
        "    )\n",
        "    return dqn"
      ],
      "metadata": {
        "id": "un0NM5Cee05L"
      },
      "execution_count": 25,
      "outputs": []
    },
    {
      "cell_type": "code",
      "source": [
        "dqn = build_agent(model, actions)\n",
        "dqn.compile(Adam(lr=1e-4))"
      ],
      "metadata": {
        "id": "XCK4WyX1f1VF",
        "colab": {
          "base_uri": "https://localhost:8080/"
        },
        "outputId": "d53e4d0e-1248-4df3-f61e-b3b17c9a3029"
      },
      "execution_count": 26,
      "outputs": [
        {
          "output_type": "stream",
          "name": "stderr",
          "text": [
            "/usr/local/lib/python3.7/dist-packages/keras/optimizers/optimizer_v2/adam.py:110: UserWarning: The `lr` argument is deprecated, use `learning_rate` instead.\n",
            "  super(Adam, self).__init__(name, **kwargs)\n"
          ]
        }
      ]
    },
    {
      "cell_type": "markdown",
      "source": [
        "## Train"
      ],
      "metadata": {
        "id": "rTFv2KMAimBX"
      }
    },
    {
      "cell_type": "code",
      "source": [
        "dqn.fit(env, nb_steps=10000, visualize=False, verbose=2)"
      ],
      "metadata": {
        "colab": {
          "base_uri": "https://localhost:8080/"
        },
        "id": "wOP8OrohiUj6",
        "outputId": "b9466fc9-9e49-4fc7-c6f0-d0ce7b712487"
      },
      "execution_count": 27,
      "outputs": [
        {
          "metadata": {
            "tags": null
          },
          "name": "stdout",
          "output_type": "stream",
          "text": [
            "Training for 10000 steps ...\n"
          ]
        },
        {
          "metadata": {
            "tags": null
          },
          "name": "stderr",
          "output_type": "stream",
          "text": [
            "/usr/local/lib/python3.7/dist-packages/keras/engine/training_v1.py:2067: UserWarning: `Model.state_updates` will be removed in a future version. This property should not be used in TensorFlow 2.0, as `updates` are applied automatically.\n",
            "  updates=self.state_updates,\n"
          ]
        },
        {
          "metadata": {
            "tags": null
          },
          "name": "stdout",
          "output_type": "stream",
          "text": [
            "  578/10000: episode: 1, duration: 15.003s, episode steps: 578, steps per second:  39, episode reward: 120.000, mean reward:  0.208 [ 0.000, 30.000], mean action: 2.405 [0.000, 5.000],  loss: --, mean_q: --, mean_eps: --\n"
          ]
        },
        {
          "metadata": {
            "tags": null
          },
          "name": "stderr",
          "output_type": "stream",
          "text": [
            "/usr/local/lib/python3.7/dist-packages/keras/engine/training_v1.py:2067: UserWarning: `Model.state_updates` will be removed in a future version. This property should not be used in TensorFlow 2.0, as `updates` are applied automatically.\n",
            "  updates=self.state_updates,\n"
          ]
        },
        {
          "output_type": "stream",
          "name": "stdout",
          "text": [
            " 1375/10000: episode: 2, duration: 549.922s, episode steps: 797, steps per second:   1, episode reward: 225.000, mean reward:  0.282 [ 0.000, 30.000], mean action: 2.449 [0.000, 5.000],  loss: 2.336038, mean_q: 0.546484, mean_eps: 0.893125\n",
            " 1770/10000: episode: 3, duration: 566.094s, episode steps: 395, steps per second:   1, episode reward: 125.000, mean reward:  0.316 [ 0.000, 25.000], mean action: 2.600 [0.000, 5.000],  loss: 2.454093, mean_q: 1.040243, mean_eps: 0.858520\n",
            " 2477/10000: episode: 4, duration: 1009.691s, episode steps: 707, steps per second:   1, episode reward: 120.000, mean reward:  0.170 [ 0.000, 25.000], mean action: 2.535 [0.000, 5.000],  loss: 1.785974, mean_q: 1.009570, mean_eps: 0.808930\n",
            " 3351/10000: episode: 5, duration: 1257.164s, episode steps: 874, steps per second:   1, episode reward: 410.000, mean reward:  0.469 [ 0.000, 200.000], mean action: 2.651 [0.000, 5.000],  loss: 4.198885, mean_q: 0.808294, mean_eps: 0.737785\n",
            " 3851/10000: episode: 6, duration: 718.259s, episode steps: 500, steps per second:   1, episode reward: 50.000, mean reward:  0.100 [ 0.000, 20.000], mean action: 2.386 [0.000, 5.000],  loss: 19.957140, mean_q: 1.377928, mean_eps: 0.675955\n",
            " 4685/10000: episode: 7, duration: 1196.736s, episode steps: 834, steps per second:   1, episode reward: 180.000, mean reward:  0.216 [ 0.000, 25.000], mean action: 2.492 [0.000, 5.000],  loss: 6.810485, mean_q: 0.866700, mean_eps: 0.615925\n",
            " 5070/10000: episode: 8, duration: 553.535s, episode steps: 385, steps per second:   1, episode reward: 95.000, mean reward:  0.247 [ 0.000, 20.000], mean action: 2.564 [0.000, 5.000],  loss: 1.920028, mean_q: 0.746943, mean_eps: 0.561070\n",
            " 5612/10000: episode: 9, duration: 773.005s, episode steps: 542, steps per second:   1, episode reward: 120.000, mean reward:  0.221 [ 0.000, 25.000], mean action: 2.498 [0.000, 5.000],  loss: 1.716052, mean_q: 0.797414, mean_eps: 0.519355\n",
            " 6250/10000: episode: 10, duration: 912.014s, episode steps: 638, steps per second:   1, episode reward: 80.000, mean reward:  0.125 [ 0.000, 25.000], mean action: 2.940 [0.000, 5.000],  loss: 1.208849, mean_q: 0.589644, mean_eps: 0.466255\n",
            " 7178/10000: episode: 11, duration: 1320.064s, episode steps: 928, steps per second:   1, episode reward: 205.000, mean reward:  0.221 [ 0.000, 30.000], mean action: 2.790 [0.000, 5.000],  loss: 1.248430, mean_q: 0.454965, mean_eps: 0.395785\n",
            " 8447/10000: episode: 12, duration: 1808.919s, episode steps: 1269, steps per second:   1, episode reward: 485.000, mean reward:  0.382 [ 0.000, 200.000], mean action: 2.006 [0.000, 5.000],  loss: 6.921890, mean_q: 0.816915, mean_eps: 0.296920\n",
            "done, took 11431.514 seconds\n"
          ]
        },
        {
          "output_type": "execute_result",
          "data": {
            "text/plain": [
              "<keras.callbacks.History at 0x7fe9364795d0>"
            ]
          },
          "metadata": {},
          "execution_count": 27
        }
      ]
    },
    {
      "cell_type": "code",
      "source": [
        "scores = dqn.test(env, nb_episodes=20, visualize=False)\n",
        "np.mean(scores.history[\"episode_reward\"])"
      ],
      "metadata": {
        "id": "pxnlZ2DdqMmO",
        "outputId": "2ad9c490-64c0-4f38-c33d-546a2ae114a5",
        "colab": {
          "base_uri": "https://localhost:8080/"
        }
      },
      "execution_count": 28,
      "outputs": [
        {
          "output_type": "stream",
          "name": "stdout",
          "text": [
            "Testing for 20 episodes ...\n",
            "Episode 1: reward: 135.000, steps: 818\n",
            "Episode 2: reward: 140.000, steps: 795\n",
            "Episode 3: reward: 150.000, steps: 815\n",
            "Episode 4: reward: 80.000, steps: 399\n",
            "Episode 5: reward: 145.000, steps: 817\n",
            "Episode 6: reward: 105.000, steps: 403\n",
            "Episode 7: reward: 150.000, steps: 791\n",
            "Episode 8: reward: 105.000, steps: 668\n",
            "Episode 9: reward: 320.000, steps: 776\n",
            "Episode 10: reward: 125.000, steps: 777\n",
            "Episode 11: reward: 180.000, steps: 901\n",
            "Episode 12: reward: 175.000, steps: 788\n",
            "Episode 13: reward: 125.000, steps: 802\n",
            "Episode 14: reward: 140.000, steps: 803\n",
            "Episode 15: reward: 145.000, steps: 801\n",
            "Episode 16: reward: 165.000, steps: 869\n",
            "Episode 17: reward: 75.000, steps: 715\n",
            "Episode 18: reward: 160.000, steps: 776\n",
            "Episode 19: reward: 155.000, steps: 839\n",
            "Episode 20: reward: 80.000, steps: 405\n"
          ]
        },
        {
          "output_type": "execute_result",
          "data": {
            "text/plain": [
              "142.75"
            ]
          },
          "metadata": {},
          "execution_count": 28
        }
      ]
    }
  ],
  "metadata": {
    "language_info": {
      "name": "python"
    },
    "orig_nbformat": 4,
    "colab": {
      "name": "atari.ipynb",
      "provenance": []
    },
    "kernelspec": {
      "name": "python3",
      "display_name": "Python 3"
    }
  },
  "nbformat": 4,
  "nbformat_minor": 0
}